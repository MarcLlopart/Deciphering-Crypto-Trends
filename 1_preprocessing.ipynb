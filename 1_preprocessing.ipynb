{
 "cells": [
  {
   "cell_type": "code",
   "execution_count": 1,
   "metadata": {},
   "outputs": [
    {
     "name": "stderr",
     "output_type": "stream",
     "text": [
      "c:\\Users\\pc\\Anaconda3\\lib\\site-packages\\pandas\\core\\computation\\expressions.py:21: UserWarning: Pandas requires version '2.8.4' or newer of 'numexpr' (version '2.7.3' currently installed).\n",
      "  from pandas.core.computation.check import NUMEXPR_INSTALLED\n",
      "c:\\Users\\pc\\Anaconda3\\lib\\site-packages\\pandas\\core\\arrays\\masked.py:60: UserWarning: Pandas requires version '1.3.6' or newer of 'bottleneck' (version '1.3.2' currently installed).\n",
      "  from pandas.core import (\n"
     ]
    }
   ],
   "source": [
    "import pandas as pd\n",
    "import numpy as np\n",
    "import matplotlib.pyplot as plt\n",
    "\n",
    "import warnings\n",
    "warnings.filterwarnings('ignore')\n"
   ]
  },
  {
   "cell_type": "code",
   "execution_count": null,
   "metadata": {},
   "outputs": [],
   "source": [
    "## TOKEN MAPPING\n",
    "trend_to_token_mapping = {\n",
    "    \"bitcoin.csv\": \"btc\",\n",
    "    \"bnb.csv\": \"bnb\",\n",
    "    \"cardano.csv\": \"ada\",\n",
    "    \"chainlink.csv\": \"link\",\n",
    "    \"dogecoin.csv\": \"doge\",\n",
    "    \"ethereum.csv\": \"eth\",\n",
    "    \"fetch.ai.csv\": \"fet\",\n",
    "    \"filecoin.csv\": \"fil\",\n",
    "    \"kucoin.csv\": \"kcs\",\n",
    "    \"litecoin.csv\": \"ltc\",\n",
    "    \"monero.csv\": \"xmr\",\n",
    "    \"oasis network.csv\": \"rose\",\n",
    "    \"ocean protocol.csv\": \"ocean\",\n",
    "    \"pancakeswap.csv\": \"cake\",\n",
    "    \"polkadot.csv\": \"dot\",\n",
    "    \"singularitynet.csv\": \"agix\",\n",
    "    \"solana.csv\": \"sol\",\n",
    "    \"tezos.csv\": \"xtz\",\n",
    "    \"uniswap.csv\": \"uni\",\n",
    "    \"XRP.csv\": \"xrp\"\n",
    "}\n",
    "\n",
    "#token = filename.split(\"-\")[0].lower()"
   ]
  }
 ],
 "metadata": {
  "kernelspec": {
   "display_name": "base",
   "language": "python",
   "name": "python3"
  },
  "language_info": {
   "codemirror_mode": {
    "name": "ipython",
    "version": 3
   },
   "file_extension": ".py",
   "mimetype": "text/x-python",
   "name": "python",
   "nbconvert_exporter": "python",
   "pygments_lexer": "ipython3",
   "version": "3.9.7"
  }
 },
 "nbformat": 4,
 "nbformat_minor": 2
}
